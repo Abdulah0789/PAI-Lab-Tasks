{
 "cells": [
  {
   "cell_type": "markdown",
   "metadata": {},
   "source": [
    "Water Jug Problem With DFS"
   ]
  },
  {
   "cell_type": "code",
   "execution_count": 1,
   "metadata": {},
   "outputs": [],
   "source": [
    "from collections import deque"
   ]
  },
  {
   "cell_type": "code",
   "execution_count": 2,
   "metadata": {},
   "outputs": [
    {
     "name": "stdout",
     "output_type": "stream",
     "text": [
      "Solution Found:\n",
      "(0, 0)\n",
      "(0, 3)\n",
      "(3, 0)\n",
      "(3, 3)\n",
      "(6, 0)\n",
      "(0, 6)\n",
      "(4, 2)\n"
     ]
    },
    {
     "data": {
      "text/plain": [
       "True"
      ]
     },
     "execution_count": 2,
     "metadata": {},
     "output_type": "execute_result"
    }
   ],
   "source": [
    "def waterJugDFS(cap1, cap2, goal):\n",
    "    stack = [(0, 0)]\n",
    "    visited = set()\n",
    "    path = []\n",
    "\n",
    "    while stack:\n",
    "        jug1, jug2 = stack.pop()\n",
    "        path.append((jug1, jug2))\n",
    "\n",
    "        if jug1 == goal or jug2 == goal:\n",
    "            print(\"Solution Found:\")\n",
    "            for step in path:\n",
    "                print(step)\n",
    "            return True\n",
    "\n",
    "        visited.add((jug1, jug2))\n",
    "\n",
    "        moves = [\n",
    "            (cap1, jug2),\n",
    "            (jug1, cap2),\n",
    "            (0, jug2), \n",
    "            (jug1, 0), \n",
    "            (jug1 - min(jug1, cap2 - jug2), jug2 + min(jug1, cap2 - jug2)),\n",
    "            (jug1 + min(jug2, cap1 - jug1), jug2 - min(jug2, cap1 - jug1)),\n",
    "            (0, jug1 + jug2),\n",
    "            (jug1 + jug2, 0),\n",
    "        ]\n",
    "\n",
    "        for move in moves:\n",
    "            if move not in visited:\n",
    "                stack.append(move)\n",
    "\n",
    "    print(\"No Solution Found\")\n",
    "    return False\n",
    "\n",
    "\n",
    "jug1Cap = 4\n",
    "jug2Cap = 3\n",
    "target = 2\n",
    "\n",
    "waterJugDFS(jug1Cap, jug2Cap, target)"
   ]
  },
  {
   "cell_type": "code",
   "execution_count": null,
   "metadata": {},
   "outputs": [],
   "source": []
  }
 ],
 "metadata": {
  "kernelspec": {
   "display_name": "Python 3",
   "language": "python",
   "name": "python3"
  },
  "language_info": {
   "codemirror_mode": {
    "name": "ipython",
    "version": 3
   },
   "file_extension": ".py",
   "mimetype": "text/x-python",
   "name": "python",
   "nbconvert_exporter": "python",
   "pygments_lexer": "ipython3",
   "version": "3.13.0"
  }
 },
 "nbformat": 4,
 "nbformat_minor": 2
}
