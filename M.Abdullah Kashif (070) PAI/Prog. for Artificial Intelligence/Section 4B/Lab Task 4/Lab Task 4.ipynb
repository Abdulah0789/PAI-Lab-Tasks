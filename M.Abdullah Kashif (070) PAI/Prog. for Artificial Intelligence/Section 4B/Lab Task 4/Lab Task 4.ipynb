{
 "cells": [
  {
   "cell_type": "markdown",
   "metadata": {},
   "source": [
    "N-Queens Problem"
   ]
  },
  {
   "cell_type": "code",
   "execution_count": 2,
   "metadata": {},
   "outputs": [
    {
     "name": "stdout",
     "output_type": "stream",
     "text": [
      "Total Solutions: 2\n"
     ]
    }
   ],
   "source": [
    "def solve_n_queens(n, row=0, col_mask=0, left_diag_mask=0, right_diag_mask=0):\n",
    "    if row == n:\n",
    "        return 1\n",
    "    \n",
    "    count = 0\n",
    "    available_pos = ((1 << n) - 1) & ~(col_mask | left_diag_mask | right_diag_mask)\n",
    "\n",
    "    while available_pos:\n",
    "        pos = available_pos & -available_pos\n",
    "        available_pos -= pos\n",
    "        count += solve_n_queens(n, row + 1, col_mask | pos, \n",
    "                                (left_diag_mask | pos) << 1, \n",
    "                                (right_diag_mask | pos) >> 1)\n",
    "\n",
    "    return count\n",
    "\n",
    "board_size = int(input(\"Enter N for N-Queen: \"))\n",
    "print(\"Total Solutions:\", solve_n_queens(board_size))\n"
   ]
  },
  {
   "cell_type": "code",
   "execution_count": null,
   "metadata": {},
   "outputs": [],
   "source": []
  }
 ],
 "metadata": {
  "kernelspec": {
   "display_name": "Python 3",
   "language": "python",
   "name": "python3"
  },
  "language_info": {
   "codemirror_mode": {
    "name": "ipython",
    "version": 3
   },
   "file_extension": ".py",
   "mimetype": "text/x-python",
   "name": "python",
   "nbconvert_exporter": "python",
   "pygments_lexer": "ipython3",
   "version": "3.13.0"
  }
 },
 "nbformat": 4,
 "nbformat_minor": 2
}
